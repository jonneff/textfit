{
 "cells": [
  {
   "cell_type": "code",
   "execution_count": 1,
   "metadata": {
    "collapsed": true
   },
   "outputs": [],
   "source": [
    "import praw\n",
    "import pandas as pd\n",
    "import unicodedata\n",
    "from sqlalchemy import create_engine\n",
    "from sqlalchemy.types import String"
   ]
  },
  {
   "cell_type": "code",
   "execution_count": 2,
   "metadata": {
    "collapsed": true
   },
   "outputs": [],
   "source": [
    "USERAGENT = '/u/insight_fu comments'\n",
    "SUBREDDITS = [\"pics\", \"politics\", \"leagueoflegends\", \"GirlGamers\"]\n",
    "DATABASE = 'recentPosts'\n",
    "MAXPOSTS = 10"
   ]
  },
  {
   "cell_type": "code",
   "execution_count": 3,
   "metadata": {
    "collapsed": false
   },
   "outputs": [
    {
     "name": "stdout",
     "output_type": "stream",
     "text": [
      "Version 2.1.21 of praw is outdated. Version 3.0.0 was released Tuesday June 16, 2015.\n"
     ]
    }
   ],
   "source": [
    "r = praw.Reddit(USERAGENT)"
   ]
  },
  {
   "cell_type": "code",
   "execution_count": 4,
   "metadata": {
    "collapsed": false
   },
   "outputs": [],
   "source": [
    "multi_reddits = []\n",
    "for subreddit in SUBREDDITS:\n",
    "    if subreddit == 'GirlGamers':\n",
    "        multi_reddits.append(r.get_subreddit(subreddit).get_top_from_day(limit = MAXPOSTS))\n",
    "    elif subreddit == 'politics':\n",
    "        multi_reddits.append(r.get_subreddit(subreddit).get_top_from_day(limit = MAXPOSTS))\n",
    "    elif subreddit != 'GirlGamers' AND subreddit != 'politics':\n",
    "        multi_reddits.append(r.get_subreddit(subreddit).get_top_from_hour(limit = MAXPOSTS))"
   ]
  },
  {
   "cell_type": "code",
   "execution_count": 5,
   "metadata": {
    "collapsed": false
   },
   "outputs": [
    {
     "name": "stdout",
     "output_type": "stream",
     "text": [
      "<generator object get_content at 0x1072a0050>\n",
      "<generator object get_content at 0x1072a0140>\n",
      "<generator object get_content at 0x10727dcd0>\n",
      "<generator object get_content at 0x1072a0230>\n"
     ]
    }
   ],
   "source": [
    "for reddit in multi_reddits:\n",
    "    print reddit"
   ]
  },
  {
   "cell_type": "code",
   "execution_count": 6,
   "metadata": {
    "collapsed": true
   },
   "outputs": [],
   "source": [
    "subLinks = []\n",
    "for reddit in multi_reddits:\n",
    "    for post in reddit:\n",
    "        subLinks.append({'subreddit': post.subreddit,\n",
    "                        'postTitle': post.title,\n",
    "                        'postURL': post.permalink,\n",
    "                        'postCreated': post.created_utc})"
   ]
  },
  {
   "cell_type": "code",
   "execution_count": 7,
   "metadata": {
    "collapsed": true
   },
   "outputs": [],
   "source": [
    "subLinksPD = pd.DataFrame(subLinks)"
   ]
  },
  {
   "cell_type": "code",
   "execution_count": 8,
   "metadata": {
    "collapsed": false
   },
   "outputs": [
    {
     "data": {
      "text/html": [
       "<div style=\"max-height:1000px;max-width:1500px;overflow:auto;\">\n",
       "<table border=\"1\" class=\"dataframe\">\n",
       "  <thead>\n",
       "    <tr style=\"text-align: right;\">\n",
       "      <th></th>\n",
       "      <th>postCreated</th>\n",
       "      <th>postTitle</th>\n",
       "      <th>postURL</th>\n",
       "      <th>subreddit</th>\n",
       "    </tr>\n",
       "  </thead>\n",
       "  <tbody>\n",
       "    <tr>\n",
       "      <th>0</th>\n",
       "      <td> 1435340930</td>\n",
       "      <td> Congrats to Jack and George, the first gay cou...</td>\n",
       "      <td> http://www.reddit.com/r/pics/comments/3b7tyt/c...</td>\n",
       "      <td> pics</td>\n",
       "    </tr>\n",
       "    <tr>\n",
       "      <th>1</th>\n",
       "      <td> 1435341353</td>\n",
       "      <td> Wayne county, TN clerk posted this notice in r...</td>\n",
       "      <td> http://www.reddit.com/r/pics/comments/3b7uyw/w...</td>\n",
       "      <td> pics</td>\n",
       "    </tr>\n",
       "    <tr>\n",
       "      <th>2</th>\n",
       "      <td> 1435341016</td>\n",
       "      <td>                                 Call of the wild.</td>\n",
       "      <td> http://www.reddit.com/r/pics/comments/3b7u6a/c...</td>\n",
       "      <td> pics</td>\n",
       "    </tr>\n",
       "    <tr>\n",
       "      <th>3</th>\n",
       "      <td> 1435342486</td>\n",
       "      <td>                          Leucistic Monocled Cobra</td>\n",
       "      <td> http://www.reddit.com/r/pics/comments/3b7xnd/l...</td>\n",
       "      <td> pics</td>\n",
       "    </tr>\n",
       "    <tr>\n",
       "      <th>4</th>\n",
       "      <td> 1435340413</td>\n",
       "      <td>              Fire fighting in Southern California</td>\n",
       "      <td> http://www.reddit.com/r/pics/comments/3b7ssd/f...</td>\n",
       "      <td> pics</td>\n",
       "    </tr>\n",
       "  </tbody>\n",
       "</table>\n",
       "</div>"
      ],
      "text/plain": [
       "   postCreated                                          postTitle  \\\n",
       "0   1435340930  Congrats to Jack and George, the first gay cou...   \n",
       "1   1435341353  Wayne county, TN clerk posted this notice in r...   \n",
       "2   1435341016                                  Call of the wild.   \n",
       "3   1435342486                           Leucistic Monocled Cobra   \n",
       "4   1435340413               Fire fighting in Southern California   \n",
       "\n",
       "                                             postURL subreddit  \n",
       "0  http://www.reddit.com/r/pics/comments/3b7tyt/c...      pics  \n",
       "1  http://www.reddit.com/r/pics/comments/3b7uyw/w...      pics  \n",
       "2  http://www.reddit.com/r/pics/comments/3b7u6a/c...      pics  \n",
       "3  http://www.reddit.com/r/pics/comments/3b7xnd/l...      pics  \n",
       "4  http://www.reddit.com/r/pics/comments/3b7ssd/f...      pics  "
      ]
     },
     "execution_count": 8,
     "metadata": {},
     "output_type": "execute_result"
    }
   ],
   "source": [
    "subLinksPD.head()"
   ]
  },
  {
   "cell_type": "code",
   "execution_count": 9,
   "metadata": {
    "collapsed": false
   },
   "outputs": [
    {
     "data": {
      "text/plain": [
       "postCreated              <type 'numpy.float64'>\n",
       "postTitle                      <type 'unicode'>\n",
       "postURL                        <type 'unicode'>\n",
       "subreddit      <class 'praw.objects.Subreddit'>\n",
       "Name: 0, dtype: object"
      ]
     },
     "execution_count": 9,
     "metadata": {},
     "output_type": "execute_result"
    }
   ],
   "source": [
    "subLinksPD.iloc[0].map(type)"
   ]
  },
  {
   "cell_type": "code",
   "execution_count": 10,
   "metadata": {
    "collapsed": true
   },
   "outputs": [],
   "source": [
    "convertThese = ['postTitle', 'postURL']\n",
    "for convert in convertThese:\n",
    "    subLinksPD[convert] = subLinksPD[convert].map(lambda x:unicodedata.normalize('NFKD', x).encode('ascii', 'ignore'))"
   ]
  },
  {
   "cell_type": "code",
   "execution_count": 11,
   "metadata": {
    "collapsed": true
   },
   "outputs": [],
   "source": [
    "convertThese = ['subreddit', 'postCreated']\n",
    "for convert in convertThese:\n",
    "    subLinksPD[convert] = subLinksPD[convert].map(str)"
   ]
  },
  {
   "cell_type": "code",
   "execution_count": 12,
   "metadata": {
    "collapsed": true
   },
   "outputs": [],
   "source": [
    "engine = create_engine(\"mysql+pymysql://root@localhost/\" + str(DATABASE))\n",
    "subLinksPD.to_sql('recent', engine, if_exists=\"replace\")"
   ]
  }
 ],
 "metadata": {
  "kernelspec": {
   "display_name": "Python 2",
   "language": "python",
   "name": "python2"
  },
  "language_info": {
   "codemirror_mode": {
    "name": "ipython",
    "version": 2
   },
   "file_extension": ".py",
   "mimetype": "text/x-python",
   "name": "python",
   "nbconvert_exporter": "python",
   "pygments_lexer": "ipython2",
   "version": "2.7.10"
  }
 },
 "nbformat": 4,
 "nbformat_minor": 0
}
