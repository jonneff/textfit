{
 "cells": [
  {
   "cell_type": "markdown",
   "metadata": {},
   "source": [
    "(1) Get recent posts\n",
    "(2) Export database\n",
    "(3) SCP database to ubuntu"
   ]
  },
  {
   "cell_type": "code",
   "execution_count": 23,
   "metadata": {
    "collapsed": true
   },
   "outputs": [],
   "source": [
    "from recentPosts import getRecentPosts\n",
    "import subprocess"
   ]
  },
  {
   "cell_type": "code",
   "execution_count": 5,
   "metadata": {
    "collapsed": true
   },
   "outputs": [],
   "source": [
    "# passKey = \"/Users/insightfu/Documents/AWS/Insight2015B_key3.pem\"\n",
    "# filePath = \"/Users/insightfu/Desktop/Insight/Insight\\ Project/Week\\ 4/Project\\ Demo/Flask/app/updateDatabase/recentPosts.sql\""
   ]
  },
  {
   "cell_type": "code",
   "execution_count": 1,
   "metadata": {
    "collapsed": false
   },
   "outputs": [
    {
     "name": "stdout",
     "output_type": "stream",
     "text": [
      "Version 2.1.21 of praw is outdated. Version 3.0.0 was released Tuesday June 16, 2015.\n",
      "Recent posts updated!\n"
     ]
    }
   ],
   "source": [
    "from recentPosts import getRecentPosts\n",
    "getRecentPosts()\n",
    "print \"Recent posts updated!\"\n",
    "# f = open(\"recentPosts.sql\", \"w\")\n",
    "# subprocess.call([\"mysqldump\", \"-u\", \"root\", \"recentPosts\"], st)\n",
    "# print \"mysqldump of recentPosts completed!\"\n",
    "# subprocess.call([\"scp\", \"-ri\", passKey, filePath, \"ubuntu@52.8.79.170:.\"])\n",
    "# print \"scp recentPosts to AWS completed!\""
   ]
  },
  {
   "cell_type": "code",
   "execution_count": 26,
   "metadata": {
    "collapsed": false
   },
   "outputs": [
    {
     "data": {
      "text/plain": [
       "u'/Users/insightfu/Desktop/Insight/Insight Project/Week 4/Project Demo/Flask/app/updateDatabase'"
      ]
     },
     "execution_count": 26,
     "metadata": {},
     "output_type": "execute_result"
    }
   ],
   "source": [
    "pwd"
   ]
  },
  {
   "cell_type": "code",
   "execution_count": null,
   "metadata": {
    "collapsed": true
   },
   "outputs": [],
   "source": []
  }
 ],
 "metadata": {
  "kernelspec": {
   "display_name": "Python 2",
   "language": "python",
   "name": "python2"
  },
  "language_info": {
   "codemirror_mode": {
    "name": "ipython",
    "version": 2
   },
   "file_extension": ".py",
   "mimetype": "text/x-python",
   "name": "python",
   "nbconvert_exporter": "python",
   "pygments_lexer": "ipython2",
   "version": "2.7.10"
  }
 },
 "nbformat": 4,
 "nbformat_minor": 0
}
