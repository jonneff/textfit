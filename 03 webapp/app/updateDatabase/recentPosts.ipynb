{
 "cells": [
  {
   "cell_type": "code",
   "execution_count": 1,
   "metadata": {
    "collapsed": true
   },
   "outputs": [],
   "source": [
    "import praw\n",
    "import pandas as pd\n",
    "import unicodedata\n",
    "from sqlalchemy import create_engine\n",
    "from sqlalchemy.types import String"
   ]
  },
  {
   "cell_type": "code",
   "execution_count": 2,
   "metadata": {
    "collapsed": true
   },
   "outputs": [],
   "source": [
    "USERAGENT = '/u/insight_fu comments'\n",
    "SUBREDDITS = [\"pics\", \"politics\", \"leagueoflegends\", \"GirlGamers\"]\n",
    "DATABASE = 'recentPosts'\n",
    "MAXPOSTS = 10"
   ]
  },
  {
   "cell_type": "code",
   "execution_count": 3,
   "metadata": {
    "collapsed": false
   },
   "outputs": [
    {
     "name": "stdout",
     "output_type": "stream",
     "text": [
      "Version 2.1.21 of praw is outdated. Version 3.0.0 was released Tuesday June 16, 2015.\n"
     ]
    }
   ],
   "source": [
    "r = praw.Reddit(USERAGENT)"
   ]
  },
  {
   "cell_type": "code",
   "execution_count": 4,
   "metadata": {
    "collapsed": false
   },
   "outputs": [
    {
     "ename": "SyntaxError",
     "evalue": "invalid syntax (<ipython-input-4-af68d92c02b9>, line 7)",
     "output_type": "error",
     "traceback": [
      "\u001b[0;36m  File \u001b[0;32m\"<ipython-input-4-af68d92c02b9>\"\u001b[0;36m, line \u001b[0;32m7\u001b[0m\n\u001b[0;31m    elif subreddit != 'GirlGamers' AND subreddit != 'politics':\u001b[0m\n\u001b[0m                                     ^\u001b[0m\n\u001b[0;31mSyntaxError\u001b[0m\u001b[0;31m:\u001b[0m invalid syntax\n"
     ]
    }
   ],
   "source": [
    "multi_reddits = []\n",
    "for subreddit in SUBREDDITS:\n",
    "    if subreddit == 'GirlGamers':\n",
    "        multi_reddits.append(r.get_subreddit(subreddit).get_top_from_day(limit = MAXPOSTS))\n",
    "    elif subreddit == 'politics':\n",
    "        multi_reddits.append(r.get_subreddit(subreddit).get_top_from_day(limit = MAXPOSTS))\n",
    "    elif subreddit != 'GirlGamers' AND subreddit != 'politics':\n",
    "        multi_reddits.append(r.get_subreddit(subreddit).get_top_from_hour(limit = MAXPOSTS))"
   ]
  },
  {
   "cell_type": "code",
   "execution_count": null,
   "metadata": {
    "collapsed": false
   },
   "outputs": [],
   "source": [
    "for reddit in multi_reddits:\n",
    "    print reddit"
   ]
  },
  {
   "cell_type": "code",
   "execution_count": null,
   "metadata": {
    "collapsed": true
   },
   "outputs": [],
   "source": [
    "subLinks = []\n",
    "for reddit in multi_reddits:\n",
    "    for post in reddit:\n",
    "        subLinks.append({'subreddit': post.subreddit,\n",
    "                        'postTitle': post.title,\n",
    "                        'postURL': post.permalink,\n",
    "                        'postCreated': post.created_utc})"
   ]
  },
  {
   "cell_type": "code",
   "execution_count": null,
   "metadata": {
    "collapsed": true
   },
   "outputs": [],
   "source": [
    "subLinksPD = pd.DataFrame(subLinks)"
   ]
  },
  {
   "cell_type": "code",
   "execution_count": null,
   "metadata": {
    "collapsed": false
   },
   "outputs": [],
   "source": [
    "subLinksPD.head()"
   ]
  },
  {
   "cell_type": "code",
   "execution_count": null,
   "metadata": {
    "collapsed": false
   },
   "outputs": [],
   "source": [
    "subLinksPD.iloc[0].map(type)"
   ]
  },
  {
   "cell_type": "code",
   "execution_count": null,
   "metadata": {
    "collapsed": true
   },
   "outputs": [],
   "source": [
    "convertThese = ['postTitle', 'postURL']\n",
    "for convert in convertThese:\n",
    "    subLinksPD[convert] = subLinksPD[convert].map(lambda x:unicodedata.normalize('NFKD', x).encode('ascii', 'ignore'))"
   ]
  },
  {
   "cell_type": "code",
   "execution_count": null,
   "metadata": {
    "collapsed": true
   },
   "outputs": [],
   "source": [
    "convertThese = ['subreddit', 'postCreated']\n",
    "for convert in convertThese:\n",
    "    subLinksPD[convert] = subLinksPD[convert].map(str)"
   ]
  },
  {
   "cell_type": "code",
   "execution_count": null,
   "metadata": {
    "collapsed": true
   },
   "outputs": [],
   "source": [
    "engine = create_engine(\"mysql+pymysql://root@localhost/\" + str(DATABASE))\n",
    "subLinksPD.to_sql('recent', engine, if_exists=\"replace\")"
   ]
  }
 ],
 "metadata": {
  "kernelspec": {
   "display_name": "Python 2",
   "language": "python",
   "name": "python2"
  },
  "language_info": {
   "codemirror_mode": {
    "name": "ipython",
    "version": 2
   },
   "file_extension": ".py",
   "mimetype": "text/x-python",
   "name": "python",
   "nbconvert_exporter": "python",
   "pygments_lexer": "ipython2",
   "version": "2.7.10"
  }
 },
 "nbformat": 4,
 "nbformat_minor": 0
}
