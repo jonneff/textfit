{
 "cells": [
  {
   "cell_type": "code",
   "execution_count": 8,
   "metadata": {
    "collapsed": false
   },
   "outputs": [],
   "source": [
    "import matplotlib.pyplot as plt\n",
    "import json\n",
    "import os\n",
    "import sys\n",
    " \n",
    "# Path for spark source folder\n",
    "os.environ['SPARK_HOME'] = \"/Users/jonneff/spark-1.4.0-bin-hadoop2.6\"\n",
    " \n",
    "# Append pyspark to Python Path\n",
    "sys.path.append(\"/Users/jonneff/spark-1.4.0-bin-hadoop2.6/python\")\n",
    " \n",
    "from pyspark import SparkContext\n",
    "from pyspark import SparkConf\n",
    "from pyspark.sql import SQLContext\n",
    "# Load in the testing code and check to see if your answer is correct\n",
    "# If incorrect it will report back '1 test failed' for each failed test\n",
    "# Make sure to rerun any cell you change before trying the test again\n",
    "from test_helper import Test\n",
    "from pyspark.sql import SQLContext\n",
    "sqlContext = SQLContext(sc)"
   ]
  },
  {
   "cell_type": "markdown",
   "metadata": {},
   "source": [
    "Read in data.  For now, on local filesystem."
   ]
  },
  {
   "cell_type": "code",
   "execution_count": 9,
   "metadata": {
    "collapsed": true
   },
   "outputs": [],
   "source": [
    "df = sqlContext.read.json(\"/Users/jonneff/Desktop/DE/RC_2007-10\")"
   ]
  },
  {
   "cell_type": "code",
   "execution_count": 10,
   "metadata": {
    "collapsed": false
   },
   "outputs": [
    {
     "name": "stdout",
     "output_type": "stream",
     "text": [
      "root\n",
      " |-- archived: boolean (nullable = true)\n",
      " |-- author: string (nullable = true)\n",
      " |-- author_flair_css_class: string (nullable = true)\n",
      " |-- author_flair_text: string (nullable = true)\n",
      " |-- body: string (nullable = true)\n",
      " |-- controversiality: long (nullable = true)\n",
      " |-- created_utc: string (nullable = true)\n",
      " |-- distinguished: string (nullable = true)\n",
      " |-- downs: long (nullable = true)\n",
      " |-- edited: string (nullable = true)\n",
      " |-- gilded: long (nullable = true)\n",
      " |-- id: string (nullable = true)\n",
      " |-- link_id: string (nullable = true)\n",
      " |-- name: string (nullable = true)\n",
      " |-- parent_id: string (nullable = true)\n",
      " |-- retrieved_on: long (nullable = true)\n",
      " |-- score: long (nullable = true)\n",
      " |-- score_hidden: boolean (nullable = true)\n",
      " |-- subreddit: string (nullable = true)\n",
      " |-- subreddit_id: string (nullable = true)\n",
      " |-- ups: long (nullable = true)\n",
      "\n"
     ]
    }
   ],
   "source": [
    "df.printSchema()"
   ]
  },
  {
   "cell_type": "code",
   "execution_count": 13,
   "metadata": {
    "collapsed": false
   },
   "outputs": [
    {
     "data": {
      "text/plain": [
       "[Row(archived=True, author=u'bostich', author_flair_css_class=None, author_flair_text=None, body=u'test', controversiality=0, created_utc=u'1192450635', distinguished=None, downs=0, edited=u'false', gilded=0, id=u'c0299an', link_id=u't3_5yba3', name=u't1_c0299an', parent_id=u't3_5yba3', retrieved_on=1427426409, score=1, score_hidden=False, subreddit=u'reddit.com', subreddit_id=u't5_6', ups=1)]"
      ]
     },
     "execution_count": 13,
     "metadata": {},
     "output_type": "execute_result"
    }
   ],
   "source": [
    "df.head(1)"
   ]
  },
  {
   "cell_type": "code",
   "execution_count": 14,
   "metadata": {
    "collapsed": false
   },
   "outputs": [
    {
     "data": {
      "text/plain": [
       "[Row(archived=True, author=u'bostich', author_flair_css_class=None, author_flair_text=None, body=u'test', controversiality=0, created_utc=u'1192450635', distinguished=None, downs=0, edited=u'false', gilded=0, id=u'c0299an', link_id=u't3_5yba3', name=u't1_c0299an', parent_id=u't3_5yba3', retrieved_on=1427426409, score=1, score_hidden=False, subreddit=u'reddit.com', subreddit_id=u't5_6', ups=1)]"
      ]
     },
     "execution_count": 14,
     "metadata": {},
     "output_type": "execute_result"
    }
   ],
   "source": [
    "df.take(1)"
   ]
  },
  {
   "cell_type": "code",
   "execution_count": null,
   "metadata": {
    "collapsed": true
   },
   "outputs": [],
   "source": []
  },
  {
   "cell_type": "code",
   "execution_count": 2,
   "metadata": {
    "collapsed": true
   },
   "outputs": [],
   "source": [
    "DATABASE = 'reddit'"
   ]
  },
  {
   "cell_type": "code",
   "execution_count": 3,
   "metadata": {
    "collapsed": false
   },
   "outputs": [],
   "source": [
    "engine = create_engine(\"mysql+pymysql://root@localhost/\" + str(DATABASE))\n",
    "con = engine.connect()\n",
    "dataid = 1022"
   ]
  },
  {
   "cell_type": "code",
   "execution_count": 4,
   "metadata": {
    "collapsed": false
   },
   "outputs": [],
   "source": [
    "redditDB = con.execute(\"SELECT * FROM comments6\")"
   ]
  },
  {
   "cell_type": "code",
   "execution_count": 5,
   "metadata": {
    "collapsed": true
   },
   "outputs": [],
   "source": [
    "reddit = pd.DataFrame(redditDB.fetchall())\n",
    "reddit.columns = redditDB.keys()"
   ]
  },
  {
   "cell_type": "code",
   "execution_count": 6,
   "metadata": {
    "collapsed": false
   },
   "outputs": [
    {
     "data": {
      "text/html": [
       "<div style=\"max-height:1000px;max-width:1500px;overflow:auto;\">\n",
       "<table border=\"1\" class=\"dataframe\">\n",
       "  <thead>\n",
       "    <tr style=\"text-align: right;\">\n",
       "      <th></th>\n",
       "      <th>commentAuthor</th>\n",
       "      <th>commentCreated</th>\n",
       "      <th>commentID</th>\n",
       "      <th>commentLink</th>\n",
       "      <th>commentScore</th>\n",
       "      <th>postID</th>\n",
       "      <th>subreddit</th>\n",
       "      <th>postAuthor</th>\n",
       "      <th>postBody</th>\n",
       "      <th>postCreated</th>\n",
       "      <th>...</th>\n",
       "      <th>NegRaw</th>\n",
       "      <th>vNegRaw</th>\n",
       "      <th>vPos</th>\n",
       "      <th>Pos</th>\n",
       "      <th>Neg</th>\n",
       "      <th>vNeg</th>\n",
       "      <th>posNegRatio</th>\n",
       "      <th>posNegDiff</th>\n",
       "      <th>commentBody2</th>\n",
       "      <th>commentLengthSW</th>\n",
       "    </tr>\n",
       "  </thead>\n",
       "  <tbody>\n",
       "    <tr>\n",
       "      <th>0</th>\n",
       "      <td>     Ajunadeeps</td>\n",
       "      <td> 1432770000</td>\n",
       "      <td> crmzgnx</td>\n",
       "      <td> http://www.reddit.com/r/leagueoflegends/commen...</td>\n",
       "      <td> 586</td>\n",
       "      <td> 37ihzo</td>\n",
       "      <td> leagueoflegends</td>\n",
       "      <td> DBlackjack21</td>\n",
       "      <td> http://gfycat.com/HopefulGleefulHoiho</td>\n",
       "      <td> 1432770000</td>\n",
       "      <td>...</td>\n",
       "      <td> 0</td>\n",
       "      <td> 0</td>\n",
       "      <td> None</td>\n",
       "      <td> None</td>\n",
       "      <td> None</td>\n",
       "      <td> None</td>\n",
       "      <td>  0</td>\n",
       "      <td> 0.600000</td>\n",
       "      <td>                     Best backdoor since gay porn.</td>\n",
       "      <td>  5</td>\n",
       "    </tr>\n",
       "    <tr>\n",
       "      <th>1</th>\n",
       "      <td>   DBlackjack21</td>\n",
       "      <td> 1432780000</td>\n",
       "      <td> crn46mg</td>\n",
       "      <td> http://www.reddit.com/r/leagueoflegends/commen...</td>\n",
       "      <td> 441</td>\n",
       "      <td> 37ihzo</td>\n",
       "      <td> leagueoflegends</td>\n",
       "      <td> DBlackjack21</td>\n",
       "      <td> http://gfycat.com/HopefulGleefulHoiho</td>\n",
       "      <td> 1432770000</td>\n",
       "      <td>...</td>\n",
       "      <td> 0</td>\n",
       "      <td> 0</td>\n",
       "      <td> None</td>\n",
       "      <td> None</td>\n",
       "      <td> None</td>\n",
       "      <td> None</td>\n",
       "      <td>  0</td>\n",
       "      <td> 0.200000</td>\n",
       "      <td> [Objection!](http://gfycat.com/OptimisticSkinn...</td>\n",
       "      <td>  5</td>\n",
       "    </tr>\n",
       "    <tr>\n",
       "      <th>2</th>\n",
       "      <td> ThePowerOfAura</td>\n",
       "      <td> 1432780000</td>\n",
       "      <td> crn58hk</td>\n",
       "      <td> http://www.reddit.com/r/leagueoflegends/commen...</td>\n",
       "      <td> 325</td>\n",
       "      <td> 37ihzo</td>\n",
       "      <td> leagueoflegends</td>\n",
       "      <td> DBlackjack21</td>\n",
       "      <td> http://gfycat.com/HopefulGleefulHoiho</td>\n",
       "      <td> 1432770000</td>\n",
       "      <td>...</td>\n",
       "      <td> 0</td>\n",
       "      <td> 0</td>\n",
       "      <td> None</td>\n",
       "      <td> None</td>\n",
       "      <td> None</td>\n",
       "      <td> None</td>\n",
       "      <td>  0</td>\n",
       "      <td> 0.166667</td>\n",
       "      <td> Dude and I thought Sion was easy to play, clea...</td>\n",
       "      <td> 18</td>\n",
       "    </tr>\n",
       "    <tr>\n",
       "      <th>3</th>\n",
       "      <td>       SkyhuntL</td>\n",
       "      <td> 1432790000</td>\n",
       "      <td> crn9iqq</td>\n",
       "      <td> http://www.reddit.com/r/leagueoflegends/commen...</td>\n",
       "      <td> 125</td>\n",
       "      <td> 37ihzo</td>\n",
       "      <td> leagueoflegends</td>\n",
       "      <td> DBlackjack21</td>\n",
       "      <td> http://gfycat.com/HopefulGleefulHoiho</td>\n",
       "      <td> 1432770000</td>\n",
       "      <td>...</td>\n",
       "      <td> 0</td>\n",
       "      <td> 0</td>\n",
       "      <td> None</td>\n",
       "      <td> None</td>\n",
       "      <td> None</td>\n",
       "      <td> None</td>\n",
       "      <td>NaN</td>\n",
       "      <td> 0.000000</td>\n",
       "      <td>                   Or a driving license, that is. </td>\n",
       "      <td>  7</td>\n",
       "    </tr>\n",
       "    <tr>\n",
       "      <th>4</th>\n",
       "      <td>  offlightsedge</td>\n",
       "      <td> 1432790000</td>\n",
       "      <td> crnc5oz</td>\n",
       "      <td> http://www.reddit.com/r/leagueoflegends/commen...</td>\n",
       "      <td>  33</td>\n",
       "      <td> 37ihzo</td>\n",
       "      <td> leagueoflegends</td>\n",
       "      <td> DBlackjack21</td>\n",
       "      <td> http://gfycat.com/HopefulGleefulHoiho</td>\n",
       "      <td> 1432770000</td>\n",
       "      <td>...</td>\n",
       "      <td> 0</td>\n",
       "      <td> 0</td>\n",
       "      <td> None</td>\n",
       "      <td> None</td>\n",
       "      <td> None</td>\n",
       "      <td> None</td>\n",
       "      <td>  0</td>\n",
       "      <td> 0.333333</td>\n",
       "      <td> Preparing for a wide turn like that looks like...</td>\n",
       "      <td> 12</td>\n",
       "    </tr>\n",
       "  </tbody>\n",
       "</table>\n",
       "<p>5 rows × 34 columns</p>\n",
       "</div>"
      ],
      "text/plain": [
       "    commentAuthor  commentCreated commentID  \\\n",
       "0      Ajunadeeps      1432770000   crmzgnx   \n",
       "1    DBlackjack21      1432780000   crn46mg   \n",
       "2  ThePowerOfAura      1432780000   crn58hk   \n",
       "3        SkyhuntL      1432790000   crn9iqq   \n",
       "4   offlightsedge      1432790000   crnc5oz   \n",
       "\n",
       "                                         commentLink  commentScore  postID  \\\n",
       "0  http://www.reddit.com/r/leagueoflegends/commen...           586  37ihzo   \n",
       "1  http://www.reddit.com/r/leagueoflegends/commen...           441  37ihzo   \n",
       "2  http://www.reddit.com/r/leagueoflegends/commen...           325  37ihzo   \n",
       "3  http://www.reddit.com/r/leagueoflegends/commen...           125  37ihzo   \n",
       "4  http://www.reddit.com/r/leagueoflegends/commen...            33  37ihzo   \n",
       "\n",
       "         subreddit    postAuthor                               postBody  \\\n",
       "0  leagueoflegends  DBlackjack21  http://gfycat.com/HopefulGleefulHoiho   \n",
       "1  leagueoflegends  DBlackjack21  http://gfycat.com/HopefulGleefulHoiho   \n",
       "2  leagueoflegends  DBlackjack21  http://gfycat.com/HopefulGleefulHoiho   \n",
       "3  leagueoflegends  DBlackjack21  http://gfycat.com/HopefulGleefulHoiho   \n",
       "4  leagueoflegends  DBlackjack21  http://gfycat.com/HopefulGleefulHoiho   \n",
       "\n",
       "   postCreated       ...        NegRaw  vNegRaw  vPos   Pos   Neg  vNeg  \\\n",
       "0   1432770000       ...             0        0  None  None  None  None   \n",
       "1   1432770000       ...             0        0  None  None  None  None   \n",
       "2   1432770000       ...             0        0  None  None  None  None   \n",
       "3   1432770000       ...             0        0  None  None  None  None   \n",
       "4   1432770000       ...             0        0  None  None  None  None   \n",
       "\n",
       "   posNegRatio  posNegDiff                                       commentBody2  \\\n",
       "0            0    0.600000                      Best backdoor since gay porn.   \n",
       "1            0    0.200000  [Objection!](http://gfycat.com/OptimisticSkinn...   \n",
       "2            0    0.166667  Dude and I thought Sion was easy to play, clea...   \n",
       "3          NaN    0.000000                    Or a driving license, that is.    \n",
       "4            0    0.333333  Preparing for a wide turn like that looks like...   \n",
       "\n",
       "   commentLengthSW  \n",
       "0                5  \n",
       "1                5  \n",
       "2               18  \n",
       "3                7  \n",
       "4               12  \n",
       "\n",
       "[5 rows x 34 columns]"
      ]
     },
     "execution_count": 6,
     "metadata": {},
     "output_type": "execute_result"
    }
   ],
   "source": [
    "reddit.head()"
   ]
  },
  {
   "cell_type": "code",
   "execution_count": 7,
   "metadata": {
    "collapsed": false
   },
   "outputs": [
    {
     "data": {
      "text/plain": [
       "count     253519.000000\n",
       "mean       32795.809746\n",
       "std        57652.954846\n",
       "min            0.000000\n",
       "25%         9216.500000\n",
       "50%        24702.000000\n",
       "75%        43076.000000\n",
       "max      3279309.000000\n",
       "Name: timeSince, dtype: float64"
      ]
     },
     "execution_count": 7,
     "metadata": {},
     "output_type": "execute_result"
    }
   ],
   "source": [
    "reddit['timeSince'].describe()"
   ]
  },
  {
   "cell_type": "code",
   "execution_count": 8,
   "metadata": {
    "collapsed": false
   },
   "outputs": [
    {
     "data": {
      "text/plain": [
       "count    287829.000000\n",
       "mean          6.800795\n",
       "std          34.962045\n",
       "min        -416.000000\n",
       "25%           0.000000\n",
       "50%           1.000000\n",
       "75%           4.000000\n",
       "max        2143.000000\n",
       "Name: commentScore, dtype: float64"
      ]
     },
     "execution_count": 8,
     "metadata": {},
     "output_type": "execute_result"
    }
   ],
   "source": [
    "reddit['commentScore'].describe()"
   ]
  },
  {
   "cell_type": "code",
   "execution_count": 9,
   "metadata": {
    "collapsed": false
   },
   "outputs": [],
   "source": [
    "redditOrig = reddit"
   ]
  },
  {
   "cell_type": "code",
   "execution_count": 10,
   "metadata": {
    "collapsed": true
   },
   "outputs": [],
   "source": [
    "redditA = reddit[['commentID', 'subreddit', 'commentScore', 'timeSince', 'commentLength', 'posNegDiff']]"
   ]
  },
  {
   "cell_type": "code",
   "execution_count": 11,
   "metadata": {
    "collapsed": true
   },
   "outputs": [],
   "source": [
    "def perc(subreddit):\n",
    "    return (round(np.percentile(reddit[reddit['subreddit'] == subreddit]['commentScore'], 3, axis = 0)), round(np.percentile(reddit[reddit['subreddit'] == subreddit]['commentScore'], 97, axis = 0)))"
   ]
  },
  {
   "cell_type": "code",
   "execution_count": 12,
   "metadata": {
    "collapsed": false
   },
   "outputs": [],
   "source": [
    "LoLper = perc('leagueoflegends')\n",
    "GGper = perc('GirlGamers')\n",
    "picsper = perc('pics')\n",
    "polper = perc('politics')"
   ]
  },
  {
   "cell_type": "code",
   "execution_count": 13,
   "metadata": {
    "collapsed": false
   },
   "outputs": [
    {
     "name": "stdout",
     "output_type": "stream",
     "text": [
      "(-7.0, 66.0)\n",
      "(0.0, 26.0)\n",
      "(-5.0, 60.0)\n",
      "(-6.0, 24.0)\n"
     ]
    }
   ],
   "source": [
    "print(LoLper)\n",
    "print(GGper)\n",
    "print(picsper)\n",
    "print(polper)"
   ]
  },
  {
   "cell_type": "code",
   "execution_count": 14,
   "metadata": {
    "collapsed": true
   },
   "outputs": [],
   "source": [
    "def score(subreddit, per):\n",
    "    data = redditA[redditA['subreddit'] == subreddit]\n",
    "    data['scoreC'] = np.nan\n",
    "    data['scoreC'][data['commentScore'] <= per[0]] = 0\n",
    "    data['scoreC'][data['commentScore'] >= per[1]] = 1\n",
    "    return data"
   ]
  },
  {
   "cell_type": "code",
   "execution_count": 15,
   "metadata": {
    "collapsed": false
   },
   "outputs": [
    {
     "name": "stderr",
     "output_type": "stream",
     "text": [
      "/anaconda/anaconda/lib/python2.7/site-packages/IPython/kernel/__main__.py:3: SettingWithCopyWarning: \n",
      "A value is trying to be set on a copy of a slice from a DataFrame.\n",
      "Try using .loc[row_indexer,col_indexer] = value instead\n",
      "\n",
      "See the the caveats in the documentation: http://pandas.pydata.org/pandas-docs/stable/indexing.html#indexing-view-versus-copy\n",
      "  app.launch_new_instance()\n",
      "/anaconda/anaconda/lib/python2.7/site-packages/IPython/kernel/__main__.py:4: SettingWithCopyWarning: \n",
      "A value is trying to be set on a copy of a slice from a DataFrame\n",
      "\n",
      "See the the caveats in the documentation: http://pandas.pydata.org/pandas-docs/stable/indexing.html#indexing-view-versus-copy\n",
      "/anaconda/anaconda/lib/python2.7/site-packages/pandas/core/generic.py:3368: SettingWithCopyWarning: \n",
      "A value is trying to be set on a copy of a slice from a DataFrame\n",
      "\n",
      "See the the caveats in the documentation: http://pandas.pydata.org/pandas-docs/stable/indexing.html#indexing-view-versus-copy\n",
      "  self._update_inplace(new_data)\n",
      "/anaconda/anaconda/lib/python2.7/site-packages/IPython/kernel/__main__.py:1: SettingWithCopyWarning: \n",
      "A value is trying to be set on a copy of a slice from a DataFrame\n",
      "\n",
      "See the the caveats in the documentation: http://pandas.pydata.org/pandas-docs/stable/indexing.html#indexing-view-versus-copy\n",
      "  if __name__ == '__main__':\n",
      "/anaconda/anaconda/lib/python2.7/site-packages/IPython/kernel/__main__.py:5: SettingWithCopyWarning: \n",
      "A value is trying to be set on a copy of a slice from a DataFrame\n",
      "\n",
      "See the the caveats in the documentation: http://pandas.pydata.org/pandas-docs/stable/indexing.html#indexing-view-versus-copy\n",
      "/anaconda/anaconda/lib/python2.7/site-packages/IPython/kernel/__main__.py:2: SettingWithCopyWarning: \n",
      "A value is trying to be set on a copy of a slice from a DataFrame\n",
      "\n",
      "See the the caveats in the documentation: http://pandas.pydata.org/pandas-docs/stable/indexing.html#indexing-view-versus-copy\n",
      "  from IPython.kernel.zmq import kernelapp as app\n",
      "/anaconda/anaconda/lib/python2.7/site-packages/IPython/kernel/__main__.py:3: SettingWithCopyWarning: \n",
      "A value is trying to be set on a copy of a slice from a DataFrame\n",
      "\n",
      "See the the caveats in the documentation: http://pandas.pydata.org/pandas-docs/stable/indexing.html#indexing-view-versus-copy\n",
      "  app.launch_new_instance()\n"
     ]
    }
   ],
   "source": [
    "LoL = score('leagueoflegends', LoLper)\n",
    "GG = score('GirlGamers', GGper)\n",
    "pic = score('pics', picsper)\n",
    "pol = score('politics', polper)\n"
   ]
  },
  {
   "cell_type": "code",
   "execution_count": 16,
   "metadata": {
    "collapsed": false
   },
   "outputs": [
    {
     "name": "stdout",
     "output_type": "stream",
     "text": [
      "count    6256.000000\n",
      "mean        0.468191\n",
      "std         0.499027\n",
      "min         0.000000\n",
      "25%         0.000000\n",
      "50%         0.000000\n",
      "75%         1.000000\n",
      "max         1.000000\n",
      "Name: scoreC, dtype: float64\n",
      "count    499.000000\n",
      "mean       0.386774\n",
      "std        0.487500\n",
      "min        0.000000\n",
      "25%        0.000000\n",
      "50%        0.000000\n",
      "75%        1.000000\n",
      "max        1.000000\n",
      "Name: scoreC, dtype: float64\n",
      "count    5535.000000\n",
      "mean        0.487986\n",
      "std         0.499901\n",
      "min         0.000000\n",
      "25%         0.000000\n",
      "50%         0.000000\n",
      "75%         1.000000\n",
      "max         1.000000\n",
      "Name: scoreC, dtype: float64\n",
      "count    3763.000000\n",
      "mean        0.484985\n",
      "std         0.499841\n",
      "min         0.000000\n",
      "25%         0.000000\n",
      "50%         0.000000\n",
      "75%         1.000000\n",
      "max         1.000000\n",
      "Name: scoreC, dtype: float64\n"
     ]
    }
   ],
   "source": [
    "print LoL['scoreC'].describe()\n",
    "print GG['scoreC'].describe()\n",
    "print pic['scoreC'].describe()\n",
    "print pol['scoreC'].describe()"
   ]
  },
  {
   "cell_type": "code",
   "execution_count": 17,
   "metadata": {
    "collapsed": false
   },
   "outputs": [],
   "source": [
    "redditB = pd.concat([LoL, GG, pic, pol])"
   ]
  },
  {
   "cell_type": "code",
   "execution_count": 18,
   "metadata": {
    "collapsed": false
   },
   "outputs": [
    {
     "data": {
      "text/html": [
       "<div style=\"max-height:1000px;max-width:1500px;overflow:auto;\">\n",
       "<table border=\"1\" class=\"dataframe\">\n",
       "  <thead>\n",
       "    <tr style=\"text-align: right;\">\n",
       "      <th></th>\n",
       "      <th>commentScore</th>\n",
       "      <th>timeSince</th>\n",
       "      <th>commentLength</th>\n",
       "      <th>posNegDiff</th>\n",
       "    </tr>\n",
       "    <tr>\n",
       "      <th>scoreC</th>\n",
       "      <th></th>\n",
       "      <th></th>\n",
       "      <th></th>\n",
       "      <th></th>\n",
       "    </tr>\n",
       "  </thead>\n",
       "  <tbody>\n",
       "    <tr>\n",
       "      <th>0</th>\n",
       "      <td> -16.081737</td>\n",
       "      <td> 20443.331973</td>\n",
       "      <td> 30.225986</td>\n",
       "      <td>-0.016371</td>\n",
       "    </tr>\n",
       "    <tr>\n",
       "      <th>1</th>\n",
       "      <td> 142.337997</td>\n",
       "      <td> 10461.994676</td>\n",
       "      <td> 27.414966</td>\n",
       "      <td> 0.005304</td>\n",
       "    </tr>\n",
       "  </tbody>\n",
       "</table>\n",
       "</div>"
      ],
      "text/plain": [
       "        commentScore     timeSince  commentLength  posNegDiff\n",
       "scoreC                                                       \n",
       "0         -16.081737  20443.331973      30.225986   -0.016371\n",
       "1         142.337997  10461.994676      27.414966    0.005304"
      ]
     },
     "execution_count": 18,
     "metadata": {},
     "output_type": "execute_result"
    }
   ],
   "source": [
    "redditB.groupby('scoreC').mean()"
   ]
  },
  {
   "cell_type": "code",
   "execution_count": 19,
   "metadata": {
    "collapsed": false
   },
   "outputs": [
    {
     "name": "stdout",
     "output_type": "stream",
     "text": [
      "Index([u'Intercept', u'C(subreddit)[T.leagueoflegends]', u'C(subreddit)[T.pics]', u'C(subreddit)[T.politics]', u'timeSince', u'commentLength', u'posNegDiff'], dtype='object')\n"
     ]
    }
   ],
   "source": [
    "y, X = dmatrices('scoreC ~ C(subreddit) + timeSince + commentLength + posNegDiff', redditB, return_type = \"dataframe\")\n",
    "print X.columns"
   ]
  },
  {
   "cell_type": "code",
   "execution_count": 20,
   "metadata": {
    "collapsed": true
   },
   "outputs": [],
   "source": [
    "X = X.rename(columns = {'C(subreddit)[T.leagueoflegends]': 'subLoL', \n",
    "                        'C(subreddit)[T.pics]': 'subPics', \n",
    "                        'C(subreddit)[T.politics]': 'subPol'})"
   ]
  },
  {
   "cell_type": "code",
   "execution_count": 21,
   "metadata": {
    "collapsed": true
   },
   "outputs": [],
   "source": [
    "y = np.ravel(y)"
   ]
  },
  {
   "cell_type": "code",
   "execution_count": 22,
   "metadata": {
    "collapsed": true
   },
   "outputs": [],
   "source": [
    "X_train, X_test, y_train, y_test = train_test_split(X, y, test_size = 0.3, random_state = 0)"
   ]
  },
  {
   "cell_type": "code",
   "execution_count": 23,
   "metadata": {
    "collapsed": true
   },
   "outputs": [],
   "source": [
    "model = LogisticRegression()\n",
    "model = model.fit(X_train, y_train)"
   ]
  },
  {
   "cell_type": "code",
   "execution_count": 24,
   "metadata": {
    "collapsed": true
   },
   "outputs": [],
   "source": [
    "f = open('model', 'w')\n",
    "cPickle.dump(model, f)\n",
    "f.close()"
   ]
  },
  {
   "cell_type": "code",
   "execution_count": 25,
   "metadata": {
    "collapsed": false
   },
   "outputs": [
    {
     "data": {
      "text/html": [
       "<div style=\"max-height:1000px;max-width:1500px;overflow:auto;\">\n",
       "<table border=\"1\" class=\"dataframe\">\n",
       "  <thead>\n",
       "    <tr style=\"text-align: right;\">\n",
       "      <th></th>\n",
       "      <th>0</th>\n",
       "      <th>1</th>\n",
       "    </tr>\n",
       "  </thead>\n",
       "  <tbody>\n",
       "    <tr>\n",
       "      <th>0</th>\n",
       "      <td>     Intercept</td>\n",
       "      <td>     [0.410245670233]</td>\n",
       "    </tr>\n",
       "    <tr>\n",
       "      <th>1</th>\n",
       "      <td>        subLoL</td>\n",
       "      <td>    [0.0583930466606]</td>\n",
       "    </tr>\n",
       "    <tr>\n",
       "      <th>2</th>\n",
       "      <td>       subPics</td>\n",
       "      <td>     [0.244273666339]</td>\n",
       "    </tr>\n",
       "    <tr>\n",
       "      <th>3</th>\n",
       "      <td>        subPol</td>\n",
       "      <td>     [0.100347697994]</td>\n",
       "    </tr>\n",
       "    <tr>\n",
       "      <th>4</th>\n",
       "      <td>     timeSince</td>\n",
       "      <td> [-7.30151157008e-05]</td>\n",
       "    </tr>\n",
       "    <tr>\n",
       "      <th>5</th>\n",
       "      <td> commentLength</td>\n",
       "      <td> [-0.000133795596042]</td>\n",
       "    </tr>\n",
       "    <tr>\n",
       "      <th>6</th>\n",
       "      <td>    posNegDiff</td>\n",
       "      <td>    [0.0322472638634]</td>\n",
       "    </tr>\n",
       "  </tbody>\n",
       "</table>\n",
       "</div>"
      ],
      "text/plain": [
       "               0                     1\n",
       "0      Intercept      [0.410245670233]\n",
       "1         subLoL     [0.0583930466606]\n",
       "2        subPics      [0.244273666339]\n",
       "3         subPol      [0.100347697994]\n",
       "4      timeSince  [-7.30151157008e-05]\n",
       "5  commentLength  [-0.000133795596042]\n",
       "6     posNegDiff     [0.0322472638634]"
      ]
     },
     "execution_count": 25,
     "metadata": {},
     "output_type": "execute_result"
    }
   ],
   "source": [
    "pd.DataFrame(zip(X.columns, np.transpose(model.coef_)))"
   ]
  },
  {
   "cell_type": "code",
   "execution_count": 26,
   "metadata": {
    "collapsed": false
   },
   "outputs": [
    {
     "name": "stdout",
     "output_type": "stream",
     "text": [
      "[ 1.  1.  1. ...,  0.  0.  1.]\n"
     ]
    }
   ],
   "source": [
    "predicted = model.predict(X_test)\n",
    "print predicted"
   ]
  },
  {
   "cell_type": "code",
   "execution_count": 27,
   "metadata": {
    "collapsed": false
   },
   "outputs": [
    {
     "name": "stdout",
     "output_type": "stream",
     "text": [
      "[[ 0.26103584  0.73896416]\n",
      " [ 0.45698479  0.54301521]\n",
      " [ 0.49617659  0.50382341]\n",
      " ..., \n",
      " [ 0.62978508  0.37021492]\n",
      " [ 0.79438198  0.20561802]\n",
      " [ 0.27561929  0.72438071]]\n"
     ]
    }
   ],
   "source": [
    "probs = model.predict_proba(X_test)\n",
    "print probs"
   ]
  },
  {
   "cell_type": "code",
   "execution_count": 28,
   "metadata": {
    "collapsed": false
   },
   "outputs": [
    {
     "name": "stdout",
     "output_type": "stream",
     "text": [
      "0.646433632499\n",
      "0.709111871693\n"
     ]
    }
   ],
   "source": [
    "print metrics.accuracy_score(y_test, predicted)\n",
    "print metrics.roc_auc_score(y_test, probs[:, 1])"
   ]
  },
  {
   "cell_type": "code",
   "execution_count": 29,
   "metadata": {
    "collapsed": false
   },
   "outputs": [
    {
     "name": "stdout",
     "output_type": "stream",
     "text": [
      "[[1400  806]\n",
      " [ 691 1337]]\n",
      "             precision    recall  f1-score   support\n",
      "\n",
      "        0.0       0.67      0.63      0.65      2206\n",
      "        1.0       0.62      0.66      0.64      2028\n",
      "\n",
      "avg / total       0.65      0.65      0.65      4234\n",
      "\n"
     ]
    }
   ],
   "source": [
    "print metrics.confusion_matrix(y_test, predicted)\n",
    "print metrics.classification_report(y_test, predicted)"
   ]
  },
  {
   "cell_type": "code",
   "execution_count": 30,
   "metadata": {
    "collapsed": false
   },
   "outputs": [
    {
     "data": {
      "text/plain": [
       "array([[ 0.42780781,  0.57219219]])"
      ]
     },
     "execution_count": 30,
     "metadata": {},
     "output_type": "execute_result"
    }
   ],
   "source": [
    "model.predict_proba(np.array([1, 0, 0, 0, 2*60*60, 30, .001]))"
   ]
  },
  {
   "cell_type": "code",
   "execution_count": 31,
   "metadata": {
    "collapsed": false
   },
   "outputs": [
    {
     "data": {
      "text/plain": [
       "array([[ 0.85967768,  0.14032232]])"
      ]
     },
     "execution_count": 31,
     "metadata": {},
     "output_type": "execute_result"
    }
   ],
   "source": [
    "model.predict_proba(np.array([1, 0, 0, 0, 10*60*60, 10, -.1]))"
   ]
  },
  {
   "cell_type": "code",
   "execution_count": 32,
   "metadata": {
    "collapsed": false
   },
   "outputs": [
    {
     "data": {
      "text/plain": [
       "array([[ 0.38821503,  0.61178497]])"
      ]
     },
     "execution_count": 32,
     "metadata": {},
     "output_type": "execute_result"
    }
   ],
   "source": [
    "model.predict_proba(np.array([0, 0, 1, 0, 1*60*60, 10, 2]))"
   ]
  }
 ],
 "metadata": {
  "kernelspec": {
   "display_name": "Python 2",
   "language": "python",
   "name": "python2"
  },
  "language_info": {
   "codemirror_mode": {
    "name": "ipython",
    "version": 2
   },
   "file_extension": ".py",
   "mimetype": "text/x-python",
   "name": "python",
   "nbconvert_exporter": "python",
   "pygments_lexer": "ipython2",
   "version": "2.7.10"
  }
 },
 "nbformat": 4,
 "nbformat_minor": 0
}
