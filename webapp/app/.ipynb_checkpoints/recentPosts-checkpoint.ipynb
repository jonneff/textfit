{
 "cells": [
  {
   "cell_type": "code",
   "execution_count": 1,
   "metadata": {
    "collapsed": true
   },
   "outputs": [],
   "source": [
    "import praw\n",
    "import pandas as pd\n",
    "import unicodedata\n",
    "from sqlalchemy import create_engine\n",
    "from sqlalchemy.types import String"
   ]
  },
  {
   "cell_type": "code",
   "execution_count": 2,
   "metadata": {
    "collapsed": true
   },
   "outputs": [],
   "source": [
    "USERAGENT = '/u/insight_fu comments'\n",
    "SUBREDDITS = [\"pics\", \"politics\", \"leagueoflegends\", \"GirlGamers\"]\n",
    "DATABASE = 'recentPosts'\n",
    "MAXPOSTS = 10"
   ]
  },
  {
   "cell_type": "code",
   "execution_count": 3,
   "metadata": {
    "collapsed": false
   },
   "outputs": [
    {
     "name": "stdout",
     "output_type": "stream",
     "text": [
      "Version 2.1.21 of praw is outdated. Version 3.0.0 was released Tuesday June 16, 2015.\n"
     ]
    }
   ],
   "source": [
    "r = praw.Reddit(USERAGENT)"
   ]
  },
  {
   "cell_type": "code",
   "execution_count": 4,
   "metadata": {
    "collapsed": true
   },
   "outputs": [],
   "source": [
    "multi_reddits = []\n",
    "for subreddit in SUBREDDITS:\n",
    "    if subreddit == 'GirlGamers':\n",
    "        multi_reddits.append(r.get_subreddit(subreddit).get_top_from_day(limit = MAXPOSTS))\n",
    "    else if subreddit != 'GirlGamers':\n",
    "        multi_reddits.append(r.get_subreddit(subreddit).get_top_from_hour(limit = MAXPOSTS))"
   ]
  },
  {
   "cell_type": "code",
   "execution_count": 5,
   "metadata": {
    "collapsed": false
   },
   "outputs": [
    {
     "name": "stdout",
     "output_type": "stream",
     "text": [
      "<generator object get_content at 0x10717ef50>\n",
      "<generator object get_content at 0x10719e050>\n",
      "<generator object get_content at 0x10717eeb0>\n",
      "<generator object get_content at 0x10719e140>\n"
     ]
    }
   ],
   "source": [
    "for reddit in multi_reddits:\n",
    "    print reddit"
   ]
  },
  {
   "cell_type": "code",
   "execution_count": 6,
   "metadata": {
    "collapsed": true
   },
   "outputs": [],
   "source": [
    "subLinks = []\n",
    "for reddit in multi_reddits:\n",
    "    for post in reddit:\n",
    "        subLinks.append({'subreddit': post.subreddit,\n",
    "                        'postTitle': post.title,\n",
    "                        'postURL': post.permalink,\n",
    "                        'postCreated': post.created_utc})"
   ]
  },
  {
   "cell_type": "code",
   "execution_count": 7,
   "metadata": {
    "collapsed": true
   },
   "outputs": [],
   "source": [
    "subLinksPD = pd.DataFrame(subLinks)"
   ]
  },
  {
   "cell_type": "code",
   "execution_count": 8,
   "metadata": {
    "collapsed": false
   },
   "outputs": [
    {
     "data": {
      "text/plain": [
       "postCreated              <type 'numpy.float64'>\n",
       "postTitle                      <type 'unicode'>\n",
       "postURL                        <type 'unicode'>\n",
       "subreddit      <class 'praw.objects.Subreddit'>\n",
       "Name: 0, dtype: object"
      ]
     },
     "execution_count": 8,
     "metadata": {},
     "output_type": "execute_result"
    }
   ],
   "source": [
    "subLinksPD.iloc[0].map(type)"
   ]
  },
  {
   "cell_type": "code",
   "execution_count": 9,
   "metadata": {
    "collapsed": true
   },
   "outputs": [],
   "source": [
    "convertThese = ['postTitle', 'postURL']\n",
    "for convert in convertThese:\n",
    "    subLinksPD[convert] = subLinksPD[convert].map(lambda x:unicodedata.normalize('NFKD', x).encode('ascii', 'ignore'))"
   ]
  },
  {
   "cell_type": "code",
   "execution_count": 10,
   "metadata": {
    "collapsed": true
   },
   "outputs": [],
   "source": [
    "convertThese = ['subreddit', 'postCreated']\n",
    "for convert in convertThese:\n",
    "    subLinksPD[convert] = subLinksPD[convert].map(str)"
   ]
  },
  {
   "cell_type": "code",
   "execution_count": 11,
   "metadata": {
    "collapsed": true
   },
   "outputs": [],
   "source": [
    "engine = create_engine(\"mysql+pymysql://root@localhost/\" + str(DATABASE))\n",
    "subLinksPD.to_sql('recent', engine, if_exists=\"replace\")"
   ]
  }
 ],
 "metadata": {
  "kernelspec": {
   "display_name": "Python 2",
   "language": "python",
   "name": "python2"
  },
  "language_info": {
   "codemirror_mode": {
    "name": "ipython",
    "version": 2
   },
   "file_extension": ".py",
   "mimetype": "text/x-python",
   "name": "python",
   "nbconvert_exporter": "python",
   "pygments_lexer": "ipython2",
   "version": "2.7.10"
  }
 },
 "nbformat": 4,
 "nbformat_minor": 0
}
