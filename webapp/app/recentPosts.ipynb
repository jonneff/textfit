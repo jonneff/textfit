{
 "cells": [
  {
   "cell_type": "code",
   "execution_count": 20,
   "metadata": {
    "collapsed": true
   },
   "outputs": [],
   "source": [
    "import praw\n",
    "import pandas as pd\n",
    "import unicodedata\n",
    "from sqlalchemy import create_engine\n",
    "from sqlalchemy.types import String"
   ]
  },
  {
   "cell_type": "code",
   "execution_count": 21,
   "metadata": {
    "collapsed": true
   },
   "outputs": [],
   "source": [
    "USERAGENT = '/u/insight_fu comments'\n",
    "SUBREDDITS = [\"pics\", \"politics\", \"leagueoflegends\", \"GirlGamers\"]\n",
    "DATABASE = 'recentPosts'\n",
    "MAXPOSTS = 10"
   ]
  },
  {
   "cell_type": "code",
   "execution_count": 22,
   "metadata": {
    "collapsed": false
   },
   "outputs": [
    {
     "name": "stdout",
     "output_type": "stream",
     "text": [
      "Version 2.1.21 of praw is outdated. Version 3.0.0 was released Tuesday June 16, 2015.\n"
     ]
    }
   ],
   "source": [
    "r = praw.Reddit(USERAGENT)"
   ]
  },
  {
   "cell_type": "code",
   "execution_count": 29,
   "metadata": {
    "collapsed": false
   },
   "outputs": [],
   "source": [
    "multi_reddits = []\n",
    "for subreddit in SUBREDDITS:\n",
    "    if subreddit == 'GirlGamers':\n",
    "        multi_reddits.append(r.get_subreddit(subreddit).get_top_from_day(limit = MAXPOSTS))\n",
    "    elif subreddit != 'GirlGamers':\n",
    "        multi_reddits.append(r.get_subreddit(subreddit).get_top_from_hour(limit = MAXPOSTS))"
   ]
  },
  {
   "cell_type": "code",
   "execution_count": 30,
   "metadata": {
    "collapsed": false
   },
   "outputs": [
    {
     "name": "stdout",
     "output_type": "stream",
     "text": [
      "<generator object get_content at 0x10747caf0>\n",
      "<generator object get_content at 0x1074c20a0>\n",
      "<generator object get_content at 0x10717ef50>\n",
      "<generator object get_content at 0x1074c2190>\n"
     ]
    }
   ],
   "source": [
    "for reddit in multi_reddits:\n",
    "    print reddit"
   ]
  },
  {
   "cell_type": "code",
   "execution_count": 31,
   "metadata": {
    "collapsed": true
   },
   "outputs": [],
   "source": [
    "subLinks = []\n",
    "for reddit in multi_reddits:\n",
    "    for post in reddit:\n",
    "        subLinks.append({'subreddit': post.subreddit,\n",
    "                        'postTitle': post.title,\n",
    "                        'postURL': post.permalink,\n",
    "                        'postCreated': post.created_utc})"
   ]
  },
  {
   "cell_type": "code",
   "execution_count": 32,
   "metadata": {
    "collapsed": true
   },
   "outputs": [],
   "source": [
    "subLinksPD = pd.DataFrame(subLinks)"
   ]
  },
  {
   "cell_type": "code",
   "execution_count": 37,
   "metadata": {
    "collapsed": false
   },
   "outputs": [
    {
     "data": {
      "text/html": [
       "<div style=\"max-height:1000px;max-width:1500px;overflow:auto;\">\n",
       "<table border=\"1\" class=\"dataframe\">\n",
       "  <thead>\n",
       "    <tr style=\"text-align: right;\">\n",
       "      <th></th>\n",
       "      <th>postCreated</th>\n",
       "      <th>postTitle</th>\n",
       "      <th>postURL</th>\n",
       "      <th>subreddit</th>\n",
       "    </tr>\n",
       "  </thead>\n",
       "  <tbody>\n",
       "    <tr>\n",
       "      <th>0</th>\n",
       "      <td> 1435291802.0</td>\n",
       "      <td> A flock of lawn flamingos can pick a T-rex cle...</td>\n",
       "      <td> http://www.reddit.com/r/pics/comments/3b5mtg/a...</td>\n",
       "      <td> pics</td>\n",
       "    </tr>\n",
       "    <tr>\n",
       "      <th>1</th>\n",
       "      <td> 1435291495.0</td>\n",
       "      <td> Can someone tell me exactly where in Weisboden...</td>\n",
       "      <td> http://www.reddit.com/r/pics/comments/3b5m8z/c...</td>\n",
       "      <td> pics</td>\n",
       "    </tr>\n",
       "    <tr>\n",
       "      <th>2</th>\n",
       "      <td> 1435291950.0</td>\n",
       "      <td> Lightning while flying into Denver Internation...</td>\n",
       "      <td> http://www.reddit.com/r/pics/comments/3b5n33/l...</td>\n",
       "      <td> pics</td>\n",
       "    </tr>\n",
       "    <tr>\n",
       "      <th>3</th>\n",
       "      <td> 1435290101.0</td>\n",
       "      <td> My hedgehog went full on Loaf today, who am I ...</td>\n",
       "      <td> http://www.reddit.com/r/pics/comments/3b5jvi/m...</td>\n",
       "      <td> pics</td>\n",
       "    </tr>\n",
       "    <tr>\n",
       "      <th>4</th>\n",
       "      <td> 1435291697.0</td>\n",
       "      <td>                                  Media v. Reality</td>\n",
       "      <td> http://www.reddit.com/r/pics/comments/3b5mm0/m...</td>\n",
       "      <td> pics</td>\n",
       "    </tr>\n",
       "  </tbody>\n",
       "</table>\n",
       "</div>"
      ],
      "text/plain": [
       "    postCreated                                          postTitle  \\\n",
       "0  1435291802.0  A flock of lawn flamingos can pick a T-rex cle...   \n",
       "1  1435291495.0  Can someone tell me exactly where in Weisboden...   \n",
       "2  1435291950.0  Lightning while flying into Denver Internation...   \n",
       "3  1435290101.0  My hedgehog went full on Loaf today, who am I ...   \n",
       "4  1435291697.0                                   Media v. Reality   \n",
       "\n",
       "                                             postURL subreddit  \n",
       "0  http://www.reddit.com/r/pics/comments/3b5mtg/a...      pics  \n",
       "1  http://www.reddit.com/r/pics/comments/3b5m8z/c...      pics  \n",
       "2  http://www.reddit.com/r/pics/comments/3b5n33/l...      pics  \n",
       "3  http://www.reddit.com/r/pics/comments/3b5jvi/m...      pics  \n",
       "4  http://www.reddit.com/r/pics/comments/3b5mm0/m...      pics  "
      ]
     },
     "execution_count": 37,
     "metadata": {},
     "output_type": "execute_result"
    }
   ],
   "source": [
    "subLinksPD.head()"
   ]
  },
  {
   "cell_type": "code",
   "execution_count": 33,
   "metadata": {
    "collapsed": false
   },
   "outputs": [
    {
     "data": {
      "text/plain": [
       "postCreated              <type 'numpy.float64'>\n",
       "postTitle                      <type 'unicode'>\n",
       "postURL                        <type 'unicode'>\n",
       "subreddit      <class 'praw.objects.Subreddit'>\n",
       "Name: 0, dtype: object"
      ]
     },
     "execution_count": 33,
     "metadata": {},
     "output_type": "execute_result"
    }
   ],
   "source": [
    "subLinksPD.iloc[0].map(type)"
   ]
  },
  {
   "cell_type": "code",
   "execution_count": 34,
   "metadata": {
    "collapsed": true
   },
   "outputs": [],
   "source": [
    "convertThese = ['postTitle', 'postURL']\n",
    "for convert in convertThese:\n",
    "    subLinksPD[convert] = subLinksPD[convert].map(lambda x:unicodedata.normalize('NFKD', x).encode('ascii', 'ignore'))"
   ]
  },
  {
   "cell_type": "code",
   "execution_count": 35,
   "metadata": {
    "collapsed": true
   },
   "outputs": [],
   "source": [
    "convertThese = ['subreddit', 'postCreated']\n",
    "for convert in convertThese:\n",
    "    subLinksPD[convert] = subLinksPD[convert].map(str)"
   ]
  },
  {
   "cell_type": "code",
   "execution_count": 36,
   "metadata": {
    "collapsed": true
   },
   "outputs": [],
   "source": [
    "engine = create_engine(\"mysql+pymysql://root@localhost/\" + str(DATABASE))\n",
    "subLinksPD.to_sql('recent', engine, if_exists=\"replace\")"
   ]
  }
 ],
 "metadata": {
  "kernelspec": {
   "display_name": "Python 2",
   "language": "python",
   "name": "python2"
  },
  "language_info": {
   "codemirror_mode": {
    "name": "ipython",
    "version": 2
   },
   "file_extension": ".py",
   "mimetype": "text/x-python",
   "name": "python",
   "nbconvert_exporter": "python",
   "pygments_lexer": "ipython2",
   "version": "2.7.10"
  }
 },
 "nbformat": 4,
 "nbformat_minor": 0
}
